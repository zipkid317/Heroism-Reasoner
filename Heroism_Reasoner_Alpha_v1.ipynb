{
 "cells": [
  {
   "cell_type": "code",
   "execution_count": 1,
   "metadata": {
    "colab": {},
    "colab_type": "code",
    "id": "lS6-gL_MH4aU"
   },
   "outputs": [],
   "source": [
    "## Notes:\n",
    "#### Structuring my Project References: https://docs.python-guide.org/writing/structure/ "
   ]
  },
  {
   "cell_type": "code",
   "execution_count": 2,
   "metadata": {},
   "outputs": [],
   "source": [
    "### TODO "
   ]
  },
  {
   "cell_type": "code",
   "execution_count": 3,
   "metadata": {
    "colab": {},
    "colab_type": "code",
    "id": "UPZ1jl2FH4ak"
   },
   "outputs": [],
   "source": [
    "# Necessary Librarires\n",
    "import random\n",
    "import json \n",
    "\n",
    "\n",
    "try:\n",
    "    import cPickle as pickle\n",
    "except ModuleNotFoundError:\n",
    "    import pickle\n",
    "\n",
    "# import pickle \n",
    "\n",
    "global ResponseKnowledgeBase\n",
    "global UserLibrary \n",
    "global OpportunityLibrary \n",
    "\n",
    "global CurrentUser\n",
    "global CurrentOpportunity"
   ]
  },
  {
   "cell_type": "markdown",
   "metadata": {
    "colab_type": "text",
    "id": "LoPDlwtJH4bB"
   },
   "source": [
    "## Knowledge Base"
   ]
  },
  {
   "cell_type": "code",
   "execution_count": 4,
   "metadata": {},
   "outputs": [],
   "source": [
    "## getResponseKB() retrieves the response knowledge base for use and updating\n",
    "\n",
    "def getResponseKB():\n",
    "    rkb = json.loads(open('rkb.txt', 'r').read())\n",
    "    global ResponseKnowledgeBase\n",
    "    ResponseKnowledgeBase = rkb\n",
    "    return\n",
    "# rkb ## JDF Test\n",
    "# rkb[\"Continuous\"][\"VillainousForce\"][\"Actualization\"] ## JDF Test\n",
    "\n",
    "# rkb[\"Continuous\"][\"VillainousForce\"][\"Actualization\"].append(\"Actualization val5\") ## JDF Test: Value addition\n",
    "# rkb[\"Continuous\"][\"VillainousForce\"][\"Actualization\"] ## JDF Test"
   ]
  },
  {
   "cell_type": "code",
   "execution_count": 5,
   "metadata": {},
   "outputs": [],
   "source": [
    "def updateResponseKB():\n",
    "    global ResponseKnowledgeBase\n",
    "    rkb = ResponseKnowledgeBase\n",
    "    with open('rkb.txt', 'w') as file:\n",
    "        file.write(json.dumps(rkb)) # use `json.loads` to do the reverse\n",
    "    return  "
   ]
  },
  {
   "cell_type": "markdown",
   "metadata": {
    "colab_type": "text",
    "id": "KO9uH5cuH4bR"
   },
   "source": [
    "## User Creation"
   ]
  },
  {
   "cell_type": "code",
   "execution_count": 6,
   "metadata": {
    "colab": {},
    "colab_type": "code",
    "id": "DXaCR6xFH4bV"
   },
   "outputs": [],
   "source": [
    "class User:\n",
    "    def __init__(self, name, riskThreshold, reflections):\n",
    "#     def __init__(self, name, personality, riskThreshold, reflections): ## JDF Version 2.0\n",
    "\n",
    "\n",
    "        self.name = name\n",
    "#         self.personality = personality ## JDF Version 2.0\n",
    "        self.riskThreshold = riskThreshold\n",
    "    \n",
    "        #list of reflections user has engaged in\n",
    "        self.reflections = reflections"
   ]
  },
  {
   "cell_type": "code",
   "execution_count": 7,
   "metadata": {
    "colab": {},
    "colab_type": "code",
    "id": "Ze4L5XBxH4bd"
   },
   "outputs": [],
   "source": [
    "def getUserName():\n",
    "    userName = input(\"Hi. What's your user name? \")\n",
    "    return (userName)\n",
    "\n",
    "# getUserName() # JDF Testing"
   ]
  },
  {
   "cell_type": "code",
   "execution_count": 8,
   "metadata": {
    "colab": {},
    "colab_type": "code",
    "id": "grsBVmofH4bk"
   },
   "outputs": [],
   "source": [
    "# ## Version 2.0\n",
    "# ## Designed to support provision of a user specific motivation prompt. \n",
    "\n",
    "# def getUserPersonality():\n",
    "#     userPersonality = input(\"What's your enneagram type? \")\n",
    "# #     print(\"You identified as an Enneagram type \", userPersonality)\n",
    "#     return (userPersonality)\n",
    "\n",
    "# # getUserPersonality() # JDF Testing"
   ]
  },
  {
   "cell_type": "code",
   "execution_count": 9,
   "metadata": {
    "colab": {},
    "colab_type": "code",
    "id": "63mWiP0RH4bo"
   },
   "outputs": [],
   "source": [
    "def getUserRiskThreshold():\n",
    "    riskThreshold = input(\"What's your risk tolerance? (H, M, L) \")\n",
    "#     print(\"You identified your risk tolerance level as \", riskThreshold)\n",
    "    return(riskThreshold)\n",
    "\n",
    "# getUserRiskThreshold() # JDF Testing"
   ]
  },
  {
   "cell_type": "code",
   "execution_count": 10,
   "metadata": {
    "colab": {},
    "colab_type": "code",
    "id": "Ec134aIcH4br"
   },
   "outputs": [],
   "source": [
    "def create_user():\n",
    "    userName = getUserName()\n",
    "    \n",
    "    \n",
    "    if userName.lower() == \"quit\":\n",
    "        return (quitProgram()) ## JDF for tests \n",
    "\n",
    "\n",
    "    \n",
    "#     userPersonality = getUserPersonality() ## JDF Version 2.0\n",
    "    userRiskThreshold = getUserRiskThreshold()\n",
    "    reflections = []\n",
    "#     user = User(userName, userPersonality, userRiskThreshold, reflections) ## JDF Version 2.0\n",
    "    user = User(userName, userRiskThreshold, reflections)\n",
    "\n",
    "\n",
    "#     Print(\"Welcome to Hero Academy, \", CurrentUser.name)\n",
    "    return(user)\n",
    "\n",
    "# create_user() ## JDF Test"
   ]
  },
  {
   "cell_type": "markdown",
   "metadata": {
    "colab_type": "text",
    "id": "7oxjxeUKH4b7"
   },
   "source": [
    "## Opportunity Creation "
   ]
  },
  {
   "cell_type": "code",
   "execution_count": 11,
   "metadata": {
    "colab": {},
    "colab_type": "code",
    "id": "ogNkyPPwH4b8"
   },
   "outputs": [],
   "source": [
    "class Opportunity:\n",
    "    def __init__(self, villainType, threatDuration, threatType):\n",
    "        self.villainType = villainType\n",
    "        self.threatDuration = threatDuration\n",
    "        self.threatType = threatType"
   ]
  },
  {
   "cell_type": "code",
   "execution_count": 12,
   "metadata": {
    "colab": {},
    "colab_type": "code",
    "id": "PO0FPS4PH4cC"
   },
   "outputs": [],
   "source": [
    "def getVillainType():\n",
    "    while True:\n",
    "        userInput = input(\"Is the cause of the threat an Agent, System, or Force? (A, S, F, or info) \")\n",
    "        \n",
    "        if userInput.lower() == \"info\":\n",
    "            print('''\n",
    "Villains are agents, systems, or forces that actively exploit and/or endanger human beings to advance its own interests.  \n",
    "In the case of villainous agents, exploitation must be conscious. Someone is consciously creating the threat.\n",
    "In the case of villainous systems, exploitation must perpetuate the system. A formal or informal policy furthers the threat.\n",
    "In the case of villainous forces, exploitation or danger must be impersonal. An exteranal factor tied to a contingency rather than a person or structure.\n",
    "            ''')\n",
    "            pass\n",
    "        \n",
    "        elif userInput.upper() == \"A\":\n",
    "            villainType = \"VillainousAgent\"\n",
    "            break\n",
    "\n",
    "        elif userInput.upper() == \"S\":\n",
    "            villainType = \"VillainousSystem\"\n",
    "            break\n",
    "            \n",
    "        elif userInput.upper() == \"F\":\n",
    "            villainType = \"VillainousForce\"\n",
    "            break\n",
    "        \n",
    "        elif userInput.lower() == (\"quit\"):\n",
    "            return(quitProgram())\n",
    "        \n",
    "#         elif if villainType.upper() not in ['A', 'S', 'F']:\n",
    "        else:\n",
    "            print(\"Your options are 'A' for Agent, 'S' for System, or 'F' for Force. Type 'info' to learn more about these options.\")\n",
    "            print(\"You can also type 'quit' to end the program at any time.\")\n",
    "            pass\n",
    "        \n",
    "\n",
    "\n",
    "    return(villainType)\n",
    "    \n",
    "# getVillainType() # JDF Testing"
   ]
  },
  {
   "cell_type": "code",
   "execution_count": 13,
   "metadata": {
    "colab": {},
    "colab_type": "code",
    "id": "c_qT4Q7QH4cE"
   },
   "outputs": [],
   "source": [
    "def getThreatDuration():\n",
    "    \n",
    "    while True:\n",
    "        userInput = input(\"Is the threat duration Episodic or Continuous? (E, C, or info) \")\n",
    "\n",
    "\n",
    "        if userInput.lower() == \"info\":\n",
    "            print('''\n",
    "Heroic opportunities can be Episodic or Continuous as determined by the nature of the threat.\n",
    "If the problem is a one time thing, mark it as Episodic. If it happens repeatedly, mark it as Continuous.\n",
    "            ''')\n",
    "            pass\n",
    "\n",
    "        elif userInput.upper() == \"E\":\n",
    "            threatDuration = \"Episodic\"\n",
    "            break\n",
    "\n",
    "        elif userInput.upper() == \"C\":\n",
    "            threatDuration = \"Continuous\"\n",
    "            break\n",
    "\n",
    "        elif userInput.lower() == (\"quit\"):\n",
    "            return(quitProgram())\n",
    "\n",
    "        else:\n",
    "            print(\"Your options are 'E' for Episodic or 'C' for Continuous. Type 'info' to learn more about these options.\")\n",
    "            print(\"You can also type 'quit' to end the program at any time.\")\n",
    "            pass\n",
    "\n",
    "\n",
    "    \n",
    "    \n",
    "    return(threatDuration)\n",
    "    \n",
    "# getThreatDuration() # JDF Testing"
   ]
  },
  {
   "cell_type": "code",
   "execution_count": 14,
   "metadata": {
    "colab": {},
    "colab_type": "code",
    "id": "EjoC18VNH4cJ"
   },
   "outputs": [],
   "source": [
    "def getThreatType():\n",
    "    \n",
    "    while True:\n",
    "    \n",
    "        userInput = input(\"Is the threat Physiological, Safety, Belonging, Esteem, or Actualization related (P, S, B, E, A, or info) \")\n",
    "    \n",
    "        if userInput.lower() == \"info\":\n",
    "            print('''\n",
    "Physiological threats cause direct bodily damage to the person you're seeking to help. Threats to health, food and water, sleep, clothes, and shelter are included in this category. \n",
    "Safety threats cause damage to someone's personal, emotional, financial, or indirect risk of future physical harm.  \n",
    "Belonging threats cause damage to social bonds, such as the bonds of family, friendship, or community. \n",
    "Esteem threats run the risk of damaging someone's self-respect or proper perception of self. \n",
    "Actualization threats run the risk of damaging someone's potential to pursue their goals, dreams, and utilize their gifts. \n",
    "            ''')\n",
    "            pass\n",
    "\n",
    "        elif userInput.upper() == \"P\":\n",
    "            threatType = \"Physiological\"\n",
    "            break\n",
    "\n",
    "        elif userInput.upper() == \"S\":\n",
    "            threatType = \"Safety\"\n",
    "            break\n",
    "            \n",
    "        elif userInput.upper() == \"B\":\n",
    "            threatType = \"Belonging\"\n",
    "            break\n",
    "\n",
    "        elif userInput.upper() == \"E\":\n",
    "            threatType = \"Esteem\"\n",
    "            break\n",
    "            \n",
    "        elif userInput.upper() == \"A\":\n",
    "            threatType = \"Actualization\"\n",
    "            break\n",
    "\n",
    "        elif userInput.lower() == (\"quit\"):\n",
    "            return(quitProgram())\n",
    "        \n",
    "        elif userInput.lower() == (\"main\"):\n",
    "            return\n",
    "\n",
    "\n",
    "\n",
    "        else:\n",
    "            print(\"Your options are 'P', 'S', 'B', 'E', or 'A'. \\nType 'info' to learn more about these options.\")\n",
    "            print(\"You can also type 'quit' to end the program at any time.\")\n",
    "            pass\n",
    "    \n",
    "    return(threatType)\n",
    "    \n",
    "# getThreatType() # JDF Testing\n"
   ]
  },
  {
   "cell_type": "code",
   "execution_count": 15,
   "metadata": {},
   "outputs": [],
   "source": [
    "def getOpportunityDescription():\n",
    "    userInput = input(\"Describe the situation in a single sentence. \")\n",
    "    opportunityDescription = userInput\n",
    "    if userInput.lower() == (\"quit\"):\n",
    "        return(quitProgram())\n",
    "    else:\n",
    "        return(opportunityDescription)\n",
    "\n",
    "# getOpportunityDescription() ## JDF Test"
   ]
  },
  {
   "cell_type": "code",
   "execution_count": 16,
   "metadata": {},
   "outputs": [],
   "source": [
    "def create_opportunity():\n",
    "    \n",
    "    # Used for archiving opportunities \n",
    "    opportunityDescription = getOpportunityDescription()\n",
    "    if opportunityDescription == quitProgram():\n",
    "        return (quitProgram()) ## JDF for tests \n",
    "    \n",
    "    villainType = getVillainType()\n",
    "    if villainType == quitProgram():\n",
    "        return (quitProgram()) ## JDF for tests \n",
    "\n",
    "    threatDuration = getThreatDuration()\n",
    "    if threatDuration == quitProgram():\n",
    "        return (quitProgram()) ## JDF for tests \n",
    "\n",
    "    \n",
    "    threatType = getThreatType()\n",
    "    if threatType == quitProgram(): ## JDF for tests \n",
    "        return (quitProgram())\n",
    "    \n",
    "    # Creates the opportunity\n",
    "    opportunity = Opportunity(villainType, threatDuration, threatType)\n",
    "    \n",
    "    # Stores the opportunity as a global variable \n",
    "    CurrentOpportunity = opportunity\n",
    "\n",
    "    # Stores the opporutnity with its description \n",
    "    OpportunityLibrary[opportunityDescription] = opportunity\n",
    "    \n",
    "    return(opportunity)\n",
    "\n",
    "# create_opportunity() #JDF test"
   ]
  },
  {
   "cell_type": "markdown",
   "metadata": {
    "colab_type": "text",
    "id": "iS_OdhdkH4ch"
   },
   "source": [
    "## Login Prompt"
   ]
  },
  {
   "cell_type": "code",
   "execution_count": 17,
   "metadata": {
    "colab": {},
    "colab_type": "code",
    "id": "DIF5HTpXH4ch"
   },
   "outputs": [],
   "source": [
    "def login_prompt():\n",
    "    \n",
    "    global currentUser \n",
    "    \n",
    "    while True:\n",
    "        print(\"\\nSIGN IN\")\n",
    "        userInput = input(\"Is this your first time here? (y, n, or menu) \")\n",
    "        \n",
    "        if userInput.lower() == 'menu':\n",
    "            return\n",
    "\n",
    "        elif userInput == quitProgram():\n",
    "            return (quitProgram()) ## JDF for tests \n",
    "        \n",
    "        elif userInput == \"quit\":\n",
    "            return (quitProgram()) ## JDF for tests \n",
    "            \n",
    "        elif userInput.lower() == 'y':\n",
    "            newUser = create_user()\n",
    "            \n",
    "            if newUser == quitProgram():\n",
    "                return (quitProgram()) ## JDF for tests \n",
    "\n",
    "#             elif userInput == \"quit\":\n",
    "#                 return (quitProgram()) ## JDF for tests \n",
    "            \n",
    "            UserLibrary[newUser.name] = newUser\n",
    "            CurrentUser = UserLibrary[newUser.name]\n",
    "            return(CurrentUser)\n",
    "        \n",
    "        elif userInput.lower() == 'n':\n",
    "            userName = input(\"What's your username? \")\n",
    "            \n",
    "            if userName in list(UserLibrary.keys()):\n",
    "                print(\"Welcome back,\", userName + \".\")\n",
    "                CurrentUser = UserLibrary[userName]\n",
    "                return(CurrentUser)\n",
    "            else:\n",
    "                print(\"I'm sorry, your username isn't in our database.\")\n",
    "                print(\"\\nUsers include: \", list(UserLibrary.keys()))\n",
    "\n",
    "        else:\n",
    "            print('''I'm sorry. Your options are to type 'y' for yes or 'n' for no.\n",
    "            \\nYou can also return to the main menu by typing 'menu'. ''')\n",
    "        \n",
    "\n",
    "# tempUserCatcher = login_prompt() #JDF Test\n",
    "# tempUserCatcher\n",
    "\n",
    "# login_prompt() ## JDF Test"
   ]
  },
  {
   "cell_type": "markdown",
   "metadata": {},
   "source": [
    "## Opportunity Analysis"
   ]
  },
  {
   "cell_type": "code",
   "execution_count": 18,
   "metadata": {},
   "outputs": [],
   "source": [
    "# getResponseKB()"
   ]
  },
  {
   "cell_type": "code",
   "execution_count": 19,
   "metadata": {},
   "outputs": [],
   "source": [
    "# global ResponseKnowledgeBase\n",
    "# ResponseKnowledgeBase"
   ]
  },
  {
   "cell_type": "code",
   "execution_count": 20,
   "metadata": {},
   "outputs": [],
   "source": [
    "## Uses the villainType, threatDuration, threatType to access the expanding library of opportunities. \n",
    "\n",
    "\n",
    "def opportunityAnalysis():\n",
    "    newOpportunity = create_opportunity()\n",
    "\n",
    "    \n",
    "    if newOpportunity == quitProgram():\n",
    "        return (quitProgram())\n",
    "\n",
    "\n",
    "#     elif newOpportunity.threatDuration == quitProgram():\n",
    "#         return (quitProgram())\n",
    "    \n",
    "#     elif newOpportunity.threatType == quitProgram():\n",
    "#         return (quitProgram())\n",
    "    \n",
    "    else:\n",
    "        ## Save \n",
    "        global ResponseKnowledgeBase\n",
    "        opportunityResponse = ResponseKnowledgeBase[newOpportunity.threatDuration][newOpportunity.villainType][newOpportunity.threatType]\n",
    "        recommendedResponse = random.choice(opportunityResponse)\n",
    "        return (recommendedResponse)\n",
    "\n",
    "# opportunityAnalysis() ## JDF Test\n"
   ]
  },
  {
   "cell_type": "markdown",
   "metadata": {},
   "source": [
    "## Main Menu & Program Navigation"
   ]
  },
  {
   "cell_type": "code",
   "execution_count": 21,
   "metadata": {},
   "outputs": [],
   "source": [
    "# def getUserLibrary():\n",
    "#     return list(UserLibrary.keys())\n",
    "# # ## User Library Test\n",
    "# # UserNames = UserLibrary.keys() # JDF Test\n",
    "# getUserLibrary()\n",
    "\n"
   ]
  },
  {
   "cell_type": "code",
   "execution_count": 22,
   "metadata": {},
   "outputs": [],
   "source": [
    "def aboutProgram():\n",
    "    print('''\n",
    "The world of tomorrow needs heroes. Not superheroes with fancy powers or flashy costumes, but everyday heroes who engage in intentional, everyday actions that better the lives of those within reach. This program is designed to support you in the pursuit of everyday heroism. It will give you the opportunity to answer questions about situations you're facing and it will point out risks and provide recommendations concerning the situation.\n",
    "The program also gives you the opportunity to reflect on situations you haven't been in personally. Your advice and reflections will be added to the knowledge base to support future users.\n",
    "    ''')\n",
    "    \n",
    "    return"
   ]
  },
  {
   "cell_type": "code",
   "execution_count": 23,
   "metadata": {},
   "outputs": [],
   "source": [
    "def mainMenu():\n",
    "    \n",
    "    #Initializes the user as a guest \n",
    "    global CurrentUser \n",
    "    CurrentUser = User(\"GUEST\", \"M\", [])\n",
    "\n",
    "    \n",
    "    while True:\n",
    "        userInput = input('''\\nMENU\n",
    "        Type the letter that corresponds with the menu item you would like to select.\n",
    "        \n",
    "        About the Heroism Reasoner (a)\n",
    "        \n",
    "        Launch the Heroism Reasoner (l)\n",
    "        \n",
    "        Sign-in (s)\n",
    "        \n",
    "        User Library (u)\n",
    "                \n",
    "        (You can also type 'quit' to end the program at any time.)\n",
    "        ''')\n",
    "        \n",
    "        if userInput.lower() == (\"a\"):\n",
    "            userInput = aboutProgram()\n",
    "            if userInput == quitProgram():\n",
    "                return (quitProgram()) ## JDF for tests \n",
    "            else:\n",
    "                pass \n",
    "\n",
    "        elif userInput.lower() == (\"l\"):\n",
    "            responseToUser = opportunityAnalysis() \n",
    "            if userInput == quitProgram():\n",
    "                return (quitProgram()) ## JDF for tests \n",
    "            else:\n",
    "                print(responseToUser)\n",
    "                pass\n",
    "\n",
    "        elif userInput.lower() == (\"s\"):\n",
    "            userInput = login_prompt()\n",
    "            if userInput == quitProgram():\n",
    "                return (quitProgram()) ## JDF for tests \n",
    "            else:\n",
    "                pass\n",
    "            \n",
    "        elif userInput.lower() == (\"u\"):\n",
    "            print(\"\\nUsers include: \", list(UserLibrary.keys()))\n",
    "            pass\n",
    "        \n",
    "        elif userInput.lower() == (\"quit\"):\n",
    "            return(quitProgram())\n",
    "        else:\n",
    "            print(\"Sorry. Choose from the menu options above or 'quit' to end the program at any time\")\n",
    "            \n",
    "        \n",
    "        ## print(userInput)  ##JDF Debugging\n",
    "\n",
    "\n",
    "\n",
    "# mainMenu() ##JDF Test"
   ]
  },
  {
   "cell_type": "markdown",
   "metadata": {},
   "source": [
    "## Housekeeping Functions"
   ]
  },
  {
   "cell_type": "code",
   "execution_count": 24,
   "metadata": {},
   "outputs": [],
   "source": [
    "def quitProgram():\n",
    "#     print(\"Come again soon. We have much to discuss. You've exited the program.\") ## Actual quit program \n",
    "#     return(exit(0)) ## Actual quit program\n",
    "    \n",
    "    global UserLibrary\n",
    "    save_object(UserLibrary, 'UserLibrary.pkl')\n",
    "    \n",
    "    \n",
    "    global OpportunityLibrary\n",
    "    save_object(OpportunityLibrary, 'OpportunityLibrary.pkl')\n",
    "    \n",
    "    updateResponseKB()\n",
    "    \n",
    "    return(\"Come again soon. We have much to discuss. You've exited the program.\") ## Helpful for tests"
   ]
  },
  {
   "cell_type": "code",
   "execution_count": 25,
   "metadata": {},
   "outputs": [],
   "source": [
    "## Save User Library (or any object)\n",
    "\n",
    "def save_object(obj, filename):\n",
    "    with open(filename, 'wb') as output:  # Overwrites any existing file.\n",
    "        pickle.dump(obj, output, pickle.HIGHEST_PROTOCOL)\n",
    "    return \n",
    "\n",
    "# ## JDF Test\n",
    "# global UseerLibrary\n",
    "# save_object(UserLibrary, 'UserLibrary.pkl')"
   ]
  },
  {
   "cell_type": "markdown",
   "metadata": {},
   "source": [
    "## Opportunity Library"
   ]
  },
  {
   "cell_type": "code",
   "execution_count": 26,
   "metadata": {},
   "outputs": [],
   "source": [
    "# OpportunityLibrary = {}"
   ]
  },
  {
   "cell_type": "code",
   "execution_count": 27,
   "metadata": {},
   "outputs": [],
   "source": [
    "## Import Opportunity Library \n",
    "## Import Opportunity Library \n",
    "def getOpportunityLibrary():\n",
    "    global OpportunityLibrary \n",
    "    OpportunityLibrary = pickle.load(open(\"OpportunityLibrary.pkl\", \"rb\"))\n",
    "    return\n",
    "\n",
    "# list(UserLibrary.keys()) ## JDF Test"
   ]
  },
  {
   "cell_type": "code",
   "execution_count": 28,
   "metadata": {},
   "outputs": [],
   "source": [
    "# create_opportunity() #JDF test"
   ]
  },
  {
   "cell_type": "code",
   "execution_count": 29,
   "metadata": {},
   "outputs": [],
   "source": [
    "# ## JDF Testing\n",
    "# save_object(OpportunityLibrary, 'OpportunityLibrary.pkl')\n",
    "\n",
    "# # list(OpportunityLibrary.keys()) ## JDF Test"
   ]
  },
  {
   "cell_type": "code",
   "execution_count": 30,
   "metadata": {
    "colab": {},
    "colab_type": "code",
    "id": "Cp5w4FBBH4ce"
   },
   "outputs": [],
   "source": [
    "## User Details Test\n",
    "# print(createOpportunityTest.villainType)\n",
    "# print(\"Opportunity Details: \", createOpportunityTest.villainType, createOpportunityTest.threatDuration, createOpportunityTest.threatType) # JDF Testing\n"
   ]
  },
  {
   "cell_type": "markdown",
   "metadata": {},
   "source": [
    "## User Library"
   ]
  },
  {
   "cell_type": "code",
   "execution_count": 31,
   "metadata": {},
   "outputs": [],
   "source": [
    "## Import User Library \n",
    "def getUserLibrary():\n",
    "    global UserLibrary\n",
    "    UserLibrary = pickle.load(open(\"UserLibrary.pkl\", \"rb\"))\n",
    "    return\n",
    "\n",
    "# list(UserLibrary.keys()) ## JDF Test"
   ]
  },
  {
   "cell_type": "code",
   "execution_count": 32,
   "metadata": {},
   "outputs": [],
   "source": [
    "# ## UserLibrary = {} ## UserLibrary Reset\n",
    "# login_prompt() ## JDF Test: Admin. Input additional users."
   ]
  },
  {
   "cell_type": "markdown",
   "metadata": {
    "colab_type": "text",
    "id": "Q2AI7V0GH4cz"
   },
   "source": [
    "## Running the Program"
   ]
  },
  {
   "cell_type": "code",
   "execution_count": 33,
   "metadata": {
    "colab": {},
    "colab_type": "code",
    "id": "S8bnWlG3H4c0"
   },
   "outputs": [],
   "source": [
    "def run():\n",
    "    getResponseKB()\n",
    "    getUserLibrary()\n",
    "    getOpportunityLibrary()\n",
    "    while True:\n",
    "        print('''Welcome to the Heroism Reasoner.  \n",
    "        \\nYou can also type 'quit' to end the program at any time.''')\n",
    "        mainMenu()\n",
    "        return(quitProgram())\n",
    "# run() #JDF Test"
   ]
  },
  {
   "cell_type": "code",
   "execution_count": 34,
   "metadata": {
    "colab": {
     "base_uri": "https://localhost:8080/",
     "height": 718
    },
    "colab_type": "code",
    "id": "bUqrGz3ZH4c5",
    "outputId": "4fff3f3e-7d7c-4691-d9f3-ddaa7a5fbac2"
   },
   "outputs": [
    {
     "name": "stdout",
     "output_type": "stream",
     "text": [
      "Welcome to the Heroism Reasoner.  \n",
      "        \n",
      "You can also type 'quit' to end the program at any time.\n",
      "\n",
      "MENU\n",
      "        Type the letter that corresponds with the menu item you would like to select.\n",
      "        \n",
      "        About the Heroism Reasoner (a)\n",
      "        \n",
      "        Launch the Heroism Reasoner (l)\n",
      "        \n",
      "        Sign-in (s)\n",
      "        \n",
      "        User Library (u)\n",
      "                \n",
      "        (You can also type 'quit' to end the program at any time.)\n",
      "        u\n",
      "\n",
      "Users include:  ['Josh', 'Batman', 'ReluctantHero85']\n",
      "\n",
      "MENU\n",
      "        Type the letter that corresponds with the menu item you would like to select.\n",
      "        \n",
      "        About the Heroism Reasoner (a)\n",
      "        \n",
      "        Launch the Heroism Reasoner (l)\n",
      "        \n",
      "        Sign-in (s)\n",
      "        \n",
      "        User Library (u)\n",
      "                \n",
      "        (You can also type 'quit' to end the program at any time.)\n",
      "        quit\n"
     ]
    }
   ],
   "source": [
    "if __name__ == '__main__':\n",
    "    run()"
   ]
  },
  {
   "cell_type": "code",
   "execution_count": 35,
   "metadata": {},
   "outputs": [
    {
     "data": {
      "text/plain": [
       "['My cat is stuck in a tree.',\n",
       " \"Racism is horrible and I don't know how to stop it.\",\n",
       " 'My friend is facing sexism on the job.',\n",
       " 'This teenager I know is being bullied at school.',\n",
       " \"My sister's project group won't do their fair share of work in the class.\",\n",
       " \"I'm seeing a lot of homeless people on the street lately.\"]"
      ]
     },
     "execution_count": 35,
     "metadata": {},
     "output_type": "execute_result"
    }
   ],
   "source": [
    "list(OpportunityLibrary.keys()) ## JDF Test"
   ]
  },
  {
   "cell_type": "code",
   "execution_count": 36,
   "metadata": {},
   "outputs": [
    {
     "data": {
      "text/plain": [
       "['Josh', 'Batman', 'ReluctantHero85']"
      ]
     },
     "execution_count": 36,
     "metadata": {},
     "output_type": "execute_result"
    }
   ],
   "source": [
    "list(UserLibrary.keys()) ## JDF Test"
   ]
  },
  {
   "cell_type": "code",
   "execution_count": 37,
   "metadata": {},
   "outputs": [
    {
     "data": {
      "text/plain": [
       "{'Episodic': {'VillainousAgent': {'Physiological': ['Physiological val1',\n",
       "    'Physiological val2',\n",
       "    'Physiological val3'],\n",
       "   'Safety': ['Safety val1', 'Safety val2', 'Safety val3'],\n",
       "   'Belonging': ['Belonging val1', 'Belonging val2', 'Belonging val3'],\n",
       "   'Esteem': ['Esteem val1', 'Esteem val2', 'Esteem val3'],\n",
       "   'Actualization': ['Actualization val1',\n",
       "    'Actualization val2',\n",
       "    'Actualization val3']},\n",
       "  'VillainousSystem': {'Physiological': ['Physiological val1',\n",
       "    'Physiological val2',\n",
       "    'Physiological val3'],\n",
       "   'Safety': ['Safety val1', 'Safety val2', 'Safety val3'],\n",
       "   'Belonging': ['Belonging val1', 'Belonging val2', 'Belonging val3'],\n",
       "   'Esteem': ['Esteem val1', 'Esteem val2', 'Esteem val3'],\n",
       "   'Actualization': ['Actualization val1',\n",
       "    'Actualization val2',\n",
       "    'Actualization val3']},\n",
       "  'VillainousForce': {'Physiological': ['Physiological val1',\n",
       "    'Physiological val2',\n",
       "    'Physiological val3'],\n",
       "   'Safety': ['Safety val1', 'Safety val2', 'Safety val3'],\n",
       "   'Belonging': ['Belonging val1', 'Belonging val2', 'Belonging val3'],\n",
       "   'Esteem': ['Esteem val1', 'Esteem val2', 'Esteem val3'],\n",
       "   'Actualization': ['Actualization val1',\n",
       "    'Actualization val2',\n",
       "    'Actualization val3']}},\n",
       " 'Continuous': {'VillainousAgent': {'Physiological': ['Physiological val1',\n",
       "    'Physiological val2',\n",
       "    'Physiological val3'],\n",
       "   'Safety': ['Safety val1', 'Safety val2', 'Safety val3'],\n",
       "   'Belonging': ['Belonging val1', 'Belonging val2', 'Belonging val3'],\n",
       "   'Esteem': ['Esteem val1', 'Esteem val2', 'Esteem val3'],\n",
       "   'Actualization': ['Actualization val1',\n",
       "    'Actualization val2',\n",
       "    'Actualization val3']},\n",
       "  'VillainousSystem': {'Physiological': ['Physiological val1',\n",
       "    'Physiological val2',\n",
       "    'Physiological val3'],\n",
       "   'Safety': ['Safety val1', 'Safety val2', 'Safety val3'],\n",
       "   'Belonging': ['Belonging val1', 'Belonging val2', 'Belonging val3'],\n",
       "   'Esteem': ['Esteem val1', 'Esteem val2', 'Esteem val3'],\n",
       "   'Actualization': ['Actualization val1',\n",
       "    'Actualization val2',\n",
       "    'Actualization val3']},\n",
       "  'VillainousForce': {'Physiological': ['Physiological val1',\n",
       "    'Physiological val2',\n",
       "    'Physiological val3'],\n",
       "   'Safety': ['Safety val1', 'Safety val2', 'Safety val3'],\n",
       "   'Belonging': ['Belonging val1', 'Belonging val2', 'Belonging val3'],\n",
       "   'Esteem': ['Esteem val1', 'Esteem val2', 'Esteem val3'],\n",
       "   'Actualization': ['Actualization val1',\n",
       "    'Actualization val2',\n",
       "    'Actualization val3',\n",
       "    'Actualization val4',\n",
       "    'Actualization val5']}}}"
      ]
     },
     "execution_count": 37,
     "metadata": {},
     "output_type": "execute_result"
    }
   ],
   "source": [
    "ResponseKnowledgeBase"
   ]
  },
  {
   "cell_type": "code",
   "execution_count": 38,
   "metadata": {
    "colab": {},
    "colab_type": "code",
    "id": "lbesvOtZH4dE"
   },
   "outputs": [],
   "source": [
    "### Future Implementation Notes \n",
    "## Collect all text descriptions of the issue, record opportunity type with it\n",
    "## Run KNN to retrieve similar instances\n",
    "## Spit back instance description and check to see if it sounds right \n"
   ]
  }
 ],
 "metadata": {
  "colab": {
   "collapsed_sections": [],
   "name": "Heroism Reasoner_v4.ipynb",
   "provenance": [],
   "toc_visible": true
  },
  "kernelspec": {
   "display_name": "Python 3",
   "language": "python",
   "name": "python3"
  },
  "language_info": {
   "codemirror_mode": {
    "name": "ipython",
    "version": 3
   },
   "file_extension": ".py",
   "mimetype": "text/x-python",
   "name": "python",
   "nbconvert_exporter": "python",
   "pygments_lexer": "ipython3",
   "version": "3.7.6"
  }
 },
 "nbformat": 4,
 "nbformat_minor": 1
}
